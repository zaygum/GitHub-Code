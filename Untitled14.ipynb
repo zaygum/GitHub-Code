{
 "cells": [
  {
   "cell_type": "code",
   "execution_count": 9,
   "metadata": {},
   "outputs": [],
   "source": [
    "def displayboard():\n",
    "    board=[str(x) for x in range(1,10)]\n",
    "    print (str(board[0]) +' '+ '|'  + ' ' +str(board[1]) + ' ' + '|'+str(board[2]) +' ')\n",
    "    print ('--' +''+ '|'  + '' +'---'   + '|'  +'-- ')\n",
    "    print (str(board[3]) +' '+ '|'  + ' ' +str(board[4]) + ' ' + '|'+str(board[5]) +' ')\n",
    "    print ('--' +''+ '|'  + '' +'---'   + '|'  +'-- ')\n",
    "    print (str(board[6]) +' '+ '|'  + ' ' +str(board[7]) + ' ' + '|'+str(board[8]) +' ')"
   ]
  },
  {
   "cell_type": "code",
   "execution_count": 10,
   "metadata": {},
   "outputs": [
    {
     "name": "stdout",
     "output_type": "stream",
     "text": [
      "1 | 2 |3 \n",
      "--|---|-- \n",
      "4 | 5 |6 \n",
      "--|---|-- \n",
      "7 | 8 |9 \n"
     ]
    }
   ],
   "source": [
    "displayboard()"
   ]
  },
  {
   "cell_type": "code",
   "execution_count": 39,
   "metadata": {},
   "outputs": [],
   "source": [
    "def chooseMarker():\n",
    "    markerselected=input(\"Please Choose Marker X or o :\").upper()\n",
    "    if markerselected=='X': return 1\n",
    "    else: return 2"
   ]
  },
  {
   "cell_type": "code",
   "execution_count": 43,
   "metadata": {},
   "outputs": [],
   "source": [
    "def startgame(markerselected):\n",
    "    displayboard()\n",
    "    \n",
    "    \n",
    "\n"
   ]
  },
  {
   "cell_type": "code",
   "execution_count": 42,
   "metadata": {},
   "outputs": [
    {
     "name": "stdout",
     "output_type": "stream",
     "text": [
      "Please Choose Marker X or o :0\n",
      "2\n"
     ]
    }
   ],
   "source": [
    "startgame(chooseMarker())"
   ]
  },
  {
   "cell_type": "code",
   "execution_count": 44,
   "metadata": {},
   "outputs": [
    {
     "data": {
      "text/plain": [
       "'E:\\\\My Data\\\\google-python-exercises'"
      ]
     },
     "execution_count": 44,
     "metadata": {},
     "output_type": "execute_result"
    }
   ],
   "source": [
    "pwd\n"
   ]
  },
  {
   "cell_type": "code",
   "execution_count": null,
   "metadata": {},
   "outputs": [],
   "source": []
  }
 ],
 "metadata": {
  "kernelspec": {
   "display_name": "Python 3",
   "language": "python",
   "name": "python3"
  },
  "language_info": {
   "codemirror_mode": {
    "name": "ipython",
    "version": 3
   },
   "file_extension": ".py",
   "mimetype": "text/x-python",
   "name": "python",
   "nbconvert_exporter": "python",
   "pygments_lexer": "ipython3",
   "version": "3.6.4"
  }
 },
 "nbformat": 4,
 "nbformat_minor": 2
}
